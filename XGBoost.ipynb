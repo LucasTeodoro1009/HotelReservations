{
 "cells": [
  {
   "cell_type": "code",
   "execution_count": 1,
   "id": "479533ee-815c-479f-a159-6c2a7e3e7da4",
   "metadata": {},
   "outputs": [
    {
     "name": "stdout",
     "output_type": "stream",
     "text": [
      "Requirement already satisfied: pymysql in /opt/conda/lib/python3.10/site-packages (1.1.1)\n"
     ]
    }
   ],
   "source": [
    "import pandas as pd\n",
    "import matplotlib as plt\n",
    "%matplotlib inline\n",
    "import numpy as np\n",
    "from sqlalchemy import create_engine\n",
    "!pip install pymysql"
   ]
  },
  {
   "cell_type": "code",
   "execution_count": 2,
   "id": "cb76f888-4223-462b-93db-222fb1a04067",
   "metadata": {},
   "outputs": [
    {
     "data": {
      "text/html": [
       "<div>\n",
       "<style scoped>\n",
       "    .dataframe tbody tr th:only-of-type {\n",
       "        vertical-align: middle;\n",
       "    }\n",
       "\n",
       "    .dataframe tbody tr th {\n",
       "        vertical-align: top;\n",
       "    }\n",
       "\n",
       "    .dataframe thead th {\n",
       "        text-align: right;\n",
       "    }\n",
       "</style>\n",
       "<table border=\"1\" class=\"dataframe\">\n",
       "  <thead>\n",
       "    <tr style=\"text-align: right;\">\n",
       "      <th></th>\n",
       "      <th>no_of_adults</th>\n",
       "      <th>no_of_children</th>\n",
       "      <th>no_of_weekend_nights</th>\n",
       "      <th>no_of_week_nights</th>\n",
       "      <th>type_of_meal_plan</th>\n",
       "      <th>required_car_parking_space</th>\n",
       "      <th>room_type_reserved</th>\n",
       "      <th>lead_time</th>\n",
       "      <th>arrival_year</th>\n",
       "      <th>arrival_month</th>\n",
       "      <th>arrival_date</th>\n",
       "      <th>market_segment_type</th>\n",
       "      <th>repeated_guest</th>\n",
       "      <th>no_of_previous_cancellations</th>\n",
       "      <th>no_of_previous_bookings_not_canceled</th>\n",
       "      <th>no_of_special_requests</th>\n",
       "      <th>booking_status</th>\n",
       "      <th>label_avg_price_room</th>\n",
       "    </tr>\n",
       "  </thead>\n",
       "  <tbody>\n",
       "    <tr>\n",
       "      <th>0</th>\n",
       "      <td>2</td>\n",
       "      <td>0</td>\n",
       "      <td>1</td>\n",
       "      <td>2</td>\n",
       "      <td>Meal Plan 1</td>\n",
       "      <td>0</td>\n",
       "      <td>Room_Type 1</td>\n",
       "      <td>224</td>\n",
       "      <td>2017</td>\n",
       "      <td>10</td>\n",
       "      <td>2</td>\n",
       "      <td>Offline</td>\n",
       "      <td>0</td>\n",
       "      <td>0</td>\n",
       "      <td>0</td>\n",
       "      <td>0</td>\n",
       "      <td>Not_Canceled</td>\n",
       "      <td>1</td>\n",
       "    </tr>\n",
       "    <tr>\n",
       "      <th>1</th>\n",
       "      <td>2</td>\n",
       "      <td>0</td>\n",
       "      <td>2</td>\n",
       "      <td>3</td>\n",
       "      <td>Not Selected</td>\n",
       "      <td>0</td>\n",
       "      <td>Room_Type 1</td>\n",
       "      <td>5</td>\n",
       "      <td>2018</td>\n",
       "      <td>11</td>\n",
       "      <td>6</td>\n",
       "      <td>Online</td>\n",
       "      <td>0</td>\n",
       "      <td>0</td>\n",
       "      <td>0</td>\n",
       "      <td>1</td>\n",
       "      <td>Not_Canceled</td>\n",
       "      <td>2</td>\n",
       "    </tr>\n",
       "    <tr>\n",
       "      <th>2</th>\n",
       "      <td>1</td>\n",
       "      <td>0</td>\n",
       "      <td>2</td>\n",
       "      <td>1</td>\n",
       "      <td>Meal Plan 1</td>\n",
       "      <td>0</td>\n",
       "      <td>Room_Type 1</td>\n",
       "      <td>1</td>\n",
       "      <td>2018</td>\n",
       "      <td>2</td>\n",
       "      <td>28</td>\n",
       "      <td>Online</td>\n",
       "      <td>0</td>\n",
       "      <td>0</td>\n",
       "      <td>0</td>\n",
       "      <td>0</td>\n",
       "      <td>Canceled</td>\n",
       "      <td>1</td>\n",
       "    </tr>\n",
       "    <tr>\n",
       "      <th>3</th>\n",
       "      <td>2</td>\n",
       "      <td>0</td>\n",
       "      <td>0</td>\n",
       "      <td>2</td>\n",
       "      <td>Meal Plan 1</td>\n",
       "      <td>0</td>\n",
       "      <td>Room_Type 1</td>\n",
       "      <td>211</td>\n",
       "      <td>2018</td>\n",
       "      <td>5</td>\n",
       "      <td>20</td>\n",
       "      <td>Online</td>\n",
       "      <td>0</td>\n",
       "      <td>0</td>\n",
       "      <td>0</td>\n",
       "      <td>0</td>\n",
       "      <td>Canceled</td>\n",
       "      <td>2</td>\n",
       "    </tr>\n",
       "    <tr>\n",
       "      <th>4</th>\n",
       "      <td>2</td>\n",
       "      <td>0</td>\n",
       "      <td>1</td>\n",
       "      <td>1</td>\n",
       "      <td>Not Selected</td>\n",
       "      <td>0</td>\n",
       "      <td>Room_Type 1</td>\n",
       "      <td>48</td>\n",
       "      <td>2018</td>\n",
       "      <td>4</td>\n",
       "      <td>11</td>\n",
       "      <td>Online</td>\n",
       "      <td>0</td>\n",
       "      <td>0</td>\n",
       "      <td>0</td>\n",
       "      <td>0</td>\n",
       "      <td>Canceled</td>\n",
       "      <td>2</td>\n",
       "    </tr>\n",
       "  </tbody>\n",
       "</table>\n",
       "</div>"
      ],
      "text/plain": [
       "   no_of_adults  no_of_children  no_of_weekend_nights  no_of_week_nights  \\\n",
       "0             2               0                     1                  2   \n",
       "1             2               0                     2                  3   \n",
       "2             1               0                     2                  1   \n",
       "3             2               0                     0                  2   \n",
       "4             2               0                     1                  1   \n",
       "\n",
       "  type_of_meal_plan  required_car_parking_space room_type_reserved  lead_time  \\\n",
       "0       Meal Plan 1                           0        Room_Type 1        224   \n",
       "1      Not Selected                           0        Room_Type 1          5   \n",
       "2       Meal Plan 1                           0        Room_Type 1          1   \n",
       "3       Meal Plan 1                           0        Room_Type 1        211   \n",
       "4      Not Selected                           0        Room_Type 1         48   \n",
       "\n",
       "   arrival_year  arrival_month  arrival_date market_segment_type  \\\n",
       "0          2017             10             2             Offline   \n",
       "1          2018             11             6              Online   \n",
       "2          2018              2            28              Online   \n",
       "3          2018              5            20              Online   \n",
       "4          2018              4            11              Online   \n",
       "\n",
       "   repeated_guest  no_of_previous_cancellations  \\\n",
       "0               0                             0   \n",
       "1               0                             0   \n",
       "2               0                             0   \n",
       "3               0                             0   \n",
       "4               0                             0   \n",
       "\n",
       "   no_of_previous_bookings_not_canceled  no_of_special_requests  \\\n",
       "0                                     0                       0   \n",
       "1                                     0                       1   \n",
       "2                                     0                       0   \n",
       "3                                     0                       0   \n",
       "4                                     0                       0   \n",
       "\n",
       "  booking_status  label_avg_price_room  \n",
       "0   Not_Canceled                     1  \n",
       "1   Not_Canceled                     2  \n",
       "2       Canceled                     1  \n",
       "3       Canceled                     2  \n",
       "4       Canceled                     2  "
      ]
     },
     "execution_count": 2,
     "metadata": {},
     "output_type": "execute_result"
    }
   ],
   "source": [
    "host = \"hotel-reservations-dataset.c7okku88e20j.us-east-1.rds.amazonaws.com\"\n",
    "port = 3306\n",
    "dbname = \"hotel\"\n",
    "user = \"admin\"\n",
    "password = \"Hotel#0405\"\n",
    "\n",
    "engine = create_engine(f'mysql+pymysql://{user}:{password}@{host}:{port}/{dbname}')\n",
    "\n",
    "query = \"SELECT * FROM dataset\"\n",
    "df = pd.read_sql(query, engine)\n",
    "df.head()"
   ]
  },
  {
   "cell_type": "code",
   "execution_count": 3,
   "id": "1764d6be-ada7-40ff-8c5b-56a7eb20a6d0",
   "metadata": {},
   "outputs": [
    {
     "data": {
      "text/plain": [
       "no_of_adults                            0\n",
       "no_of_children                          0\n",
       "no_of_weekend_nights                    0\n",
       "no_of_week_nights                       0\n",
       "type_of_meal_plan                       0\n",
       "required_car_parking_space              0\n",
       "room_type_reserved                      0\n",
       "lead_time                               0\n",
       "arrival_year                            0\n",
       "arrival_month                           0\n",
       "arrival_date                            0\n",
       "market_segment_type                     0\n",
       "repeated_guest                          0\n",
       "no_of_previous_cancellations            0\n",
       "no_of_previous_bookings_not_canceled    0\n",
       "no_of_special_requests                  0\n",
       "booking_status                          0\n",
       "label_avg_price_room                    0\n",
       "dtype: int64"
      ]
     },
     "execution_count": 3,
     "metadata": {},
     "output_type": "execute_result"
    }
   ],
   "source": [
    "df.isnull().sum()"
   ]
  },
  {
   "cell_type": "code",
   "execution_count": 4,
   "id": "a2ef0967-827b-4c98-b9ac-f913c04fce86",
   "metadata": {},
   "outputs": [
    {
     "data": {
      "text/plain": [
       "Index(['no_of_adults', 'no_of_children', 'no_of_weekend_nights',\n",
       "       'no_of_week_nights', 'required_car_parking_space', 'lead_time',\n",
       "       'arrival_year', 'arrival_month', 'arrival_date', 'repeated_guest',\n",
       "       'no_of_previous_cancellations', 'no_of_previous_bookings_not_canceled',\n",
       "       'no_of_special_requests', 'label_avg_price_room',\n",
       "       'type_of_meal_plan_Meal Plan 1', 'type_of_meal_plan_Meal Plan 2',\n",
       "       'type_of_meal_plan_Meal Plan 3', 'type_of_meal_plan_Not Selected',\n",
       "       'room_type_reserved_Room_Type 1', 'room_type_reserved_Room_Type 2',\n",
       "       'room_type_reserved_Room_Type 3', 'room_type_reserved_Room_Type 4',\n",
       "       'room_type_reserved_Room_Type 5', 'room_type_reserved_Room_Type 6',\n",
       "       'room_type_reserved_Room_Type 7', 'market_segment_type_Aviation',\n",
       "       'market_segment_type_Complementary', 'market_segment_type_Corporate',\n",
       "       'market_segment_type_Offline', 'market_segment_type_Online',\n",
       "       'booking_status_Canceled', 'booking_status_Not_Canceled'],\n",
       "      dtype='object')"
      ]
     },
     "execution_count": 4,
     "metadata": {},
     "output_type": "execute_result"
    }
   ],
   "source": [
    "df_dummies = pd.get_dummies(df, columns=['type_of_meal_plan', 'room_type_reserved', 'market_segment_type', 'booking_status'])\n",
    "df_dummies.columns"
   ]
  },
  {
   "cell_type": "code",
   "execution_count": 5,
   "id": "ae657590-d91f-4882-a7a3-71fbe959b66a",
   "metadata": {},
   "outputs": [
    {
     "data": {
      "text/plain": [
       "Index(['no_of_adults', 'no_of_children', 'no_of_weekend_nights',\n",
       "       'no_of_week_nights', 'required_car_parking_space', 'lead_time',\n",
       "       'arrival_year', 'arrival_month', 'arrival_date', 'repeated_guest',\n",
       "       'no_of_previous_cancellations', 'no_of_previous_bookings_not_canceled',\n",
       "       'no_of_special_requests', 'type_of_meal_plan_Meal Plan 1',\n",
       "       'type_of_meal_plan_Meal Plan 2', 'type_of_meal_plan_Meal Plan 3',\n",
       "       'type_of_meal_plan_Not Selected', 'room_type_reserved_Room_Type 1',\n",
       "       'room_type_reserved_Room_Type 2', 'room_type_reserved_Room_Type 3',\n",
       "       'room_type_reserved_Room_Type 4', 'room_type_reserved_Room_Type 5',\n",
       "       'room_type_reserved_Room_Type 6', 'room_type_reserved_Room_Type 7',\n",
       "       'market_segment_type_Aviation', 'market_segment_type_Complementary',\n",
       "       'market_segment_type_Corporate', 'market_segment_type_Offline',\n",
       "       'market_segment_type_Online', 'booking_status_Canceled',\n",
       "       'booking_status_Not_Canceled'],\n",
       "      dtype='object')"
      ]
     },
     "execution_count": 5,
     "metadata": {},
     "output_type": "execute_result"
    }
   ],
   "source": [
    "X = df_dummies.drop(columns=['label_avg_price_room'])\n",
    "X.columns"
   ]
  },
  {
   "cell_type": "code",
   "execution_count": 6,
   "id": "990ced7e-15cb-4b8b-a0f1-945f60932be7",
   "metadata": {},
   "outputs": [],
   "source": [
    "y = df_dummies['label_avg_price_room']"
   ]
  },
  {
   "cell_type": "code",
   "execution_count": 20,
   "id": "ef6dce8c-2590-4735-8379-bf3894f5255b",
   "metadata": {},
   "outputs": [],
   "source": [
    "X = np.array(X).astype('float32')\n",
    "y = np.array(y).astype('float32')"
   ]
  },
  {
   "cell_type": "code",
   "execution_count": 8,
   "id": "4768113a-8635-4f2e-9cf6-8824421db502",
   "metadata": {},
   "outputs": [],
   "source": [
    "from sklearn.model_selection import train_test_split\n",
    "\n",
    "X_train, X_test, y_train, y_test = train_test_split(X, y, test_size = 0.3, random_state = 42)"
   ]
  },
  {
   "cell_type": "markdown",
   "id": "b747e93a-7309-487e-9537-8ffb9464638a",
   "metadata": {},
   "source": [
    "# Configurações SageMaker"
   ]
  },
  {
   "cell_type": "code",
   "execution_count": 9,
   "id": "97bcb8a7-dbb7-4811-a46d-03464b664d60",
   "metadata": {},
   "outputs": [
    {
     "name": "stdout",
     "output_type": "stream",
     "text": [
      "sagemaker.config INFO - Not applying SDK defaults from location: /etc/xdg/sagemaker/config.yaml\n",
      "sagemaker.config INFO - Not applying SDK defaults from location: /home/sagemaker-user/.config/sagemaker/config.yaml\n"
     ]
    }
   ],
   "source": [
    "import sagemaker\n",
    "import boto3\n",
    "from sagemaker import Session"
   ]
  },
  {
   "cell_type": "code",
   "execution_count": 10,
   "id": "3c192c6c-8b0d-4888-adaa-1b9b882442e8",
   "metadata": {},
   "outputs": [
    {
     "name": "stdout",
     "output_type": "stream",
     "text": [
      "Role: arn:aws:iam::654654631603:role/service-role/AmazonSageMaker-ExecutionRole-20240913T151513\n",
      "Localização da base de treinamento: s3://sprint4-5/datasets/hotel_reservation/train/train-data-xgboost\n",
      "Localização da base de teste: s3://sprint4-5/datasets/hotel_reservation/test/test-data-xgboost\n",
      "Modelo final será salvo em: s3://sprint4-5/modelos/hotel_reservation/XGBoost/output\n"
     ]
    }
   ],
   "source": [
    "session = sagemaker.Session()\n",
    "bucket = 'sprint4-5'\n",
    "model_folder = 'modelos/hotel_reservation/XGBoost'\n",
    "subfolder = 'datasets/hotel_reservation' \n",
    "key_train = 'train-data-xgboost'\n",
    "key_test = 'test-data-xgboost'\n",
    "role = sagemaker.get_execution_role()\n",
    "s3_train_data = f's3://{bucket}/{subfolder}/train/{key_train}'\n",
    "s3_test_data = f's3://{bucket}/{subfolder}/test/{key_test}'\n",
    "output_location = f's3://{bucket}/{model_folder}/output'\n",
    "s3 = boto3.client('s3')\n",
    "print(f'Role: {role}')\n",
    "print(f'Localização da base de treinamento: {s3_train_data}')\n",
    "print(f'Localização da base de teste: {s3_test_data}')\n",
    "print(f'Modelo final será salvo em: {output_location}')"
   ]
  },
  {
   "cell_type": "code",
   "execution_count": 11,
   "id": "43b974c5-6868-4d01-82e8-9a292a3d12f8",
   "metadata": {},
   "outputs": [],
   "source": [
    "import os\n",
    "\n",
    "test_data = np.concatenate((y_test.reshape(-1, 1), X_test), axis=1)\n",
    "train_data = np.concatenate((y_train.reshape(-1, 1), X_train), axis=1)\n",
    "\n",
    "np.savetxt('hotel-reservation-train-data-xgboost.csv', train_data, delimiter=',', fmt='%f')\n",
    "np.savetxt('hotel-reservation-test-data-xgboost.csv', test_data, delimiter=',', fmt='%f')\n",
    "\n",
    "with open('hotel-reservation-train-data-xgboost.csv', 'rb') as f:\n",
    "    boto3.Session().resource('s3').Bucket(bucket).Object(os.path.join(subfolder, 'train', key_train)).upload_fileobj(f)"
   ]
  },
  {
   "cell_type": "code",
   "execution_count": 12,
   "id": "15a683af-3151-4ae1-a634-2f274e1e00e1",
   "metadata": {},
   "outputs": [],
   "source": [
    "with open('hotel-reservation-test-data-xgboost.csv', 'rb') as f:\n",
    "    boto3.Session().resource('s3').Bucket(bucket).Object(os.path.join(subfolder, 'test', key_test)).upload_fileobj(f)"
   ]
  },
  {
   "cell_type": "markdown",
   "id": "54f1dded-b2fc-43e6-8c94-a70bfa4094d8",
   "metadata": {},
   "source": [
    "# Treinamento do modelo"
   ]
  },
  {
   "cell_type": "code",
   "execution_count": 13,
   "id": "991f721b-d0fc-4b43-a03e-5963d9d56895",
   "metadata": {},
   "outputs": [],
   "source": [
    "from sagemaker import image_uris\n",
    "\n",
    "container = image_uris.retrieve(framework='xgboost', region=boto3.Session().region_name, version='1.7-1')"
   ]
  },
  {
   "cell_type": "code",
   "execution_count": 14,
   "id": "f06d9351-570a-4ed2-9278-397564182295",
   "metadata": {},
   "outputs": [],
   "source": [
    "xgboost = sagemaker.estimator.Estimator(image_uri=container, role=role, instance_count=1, instance_type='ml.m5.2xlarge', output_path=output_location, sagemaker_session=session)"
   ]
  },
  {
   "cell_type": "code",
   "execution_count": 21,
   "id": "7e501c1c-1d3f-44eb-ad2e-e07c8af4c7e8",
   "metadata": {},
   "outputs": [],
   "source": [
    "xgboost.set_hyperparameters(num_round=100, objective='reg:squarederror')"
   ]
  },
  {
   "cell_type": "code",
   "execution_count": 22,
   "id": "7d4db7d0-752c-4a76-a3d0-bcc0632fe99f",
   "metadata": {},
   "outputs": [],
   "source": [
    "train_input = sagemaker.inputs.TrainingInput(s3_data = s3_train_data, content_type='csv', s3_data_type='S3Prefix')\n",
    "validation_input = sagemaker.inputs.TrainingInput(s3_data = s3_test_data, content_type='csv', s3_data_type='S3Prefix')\n",
    "\n",
    "data_channels = {'train': train_input, 'validation': validation_input}"
   ]
  },
  {
   "cell_type": "code",
   "execution_count": 23,
   "id": "d46161a8-2d94-49af-8022-39bd3c5af8eb",
   "metadata": {},
   "outputs": [
    {
     "name": "stderr",
     "output_type": "stream",
     "text": [
      "INFO:sagemaker:Creating training-job with name: sagemaker-xgboost-2024-09-15-23-49-58-739\n"
     ]
    },
    {
     "name": "stdout",
     "output_type": "stream",
     "text": [
      "2024-09-15 23:50:00 Starting - Starting the training job...\n",
      "2024-09-15 23:50:14 Starting - Preparing the instances for training...\n",
      "2024-09-15 23:50:58 Downloading - Downloading the training image......\n",
      "2024-09-15 23:51:44 Training - Training image download completed. Training in progress..\u001b[34m[2024-09-15 23:52:05.422 ip-10-2-113-14.ec2.internal:7 INFO utils.py:28] RULE_JOB_STOP_SIGNAL_FILENAME: None\u001b[0m\n",
      "\u001b[34m[2024-09-15 23:52:05.447 ip-10-2-113-14.ec2.internal:7 INFO profiler_config_parser.py:111] User has disabled profiler.\u001b[0m\n",
      "\u001b[34m[2024-09-15:23:52:05:INFO] Imported framework sagemaker_xgboost_container.training\u001b[0m\n",
      "\u001b[34m[2024-09-15:23:52:05:INFO] Failed to parse hyperparameter objective value reg:squarederror to Json.\u001b[0m\n",
      "\u001b[34mReturning the value itself\u001b[0m\n",
      "\u001b[34m[2024-09-15:23:52:05:INFO] No GPUs detected (normal if no gpus installed)\u001b[0m\n",
      "\u001b[34m[2024-09-15:23:52:05:INFO] Running XGBoost Sagemaker in algorithm mode\u001b[0m\n",
      "\u001b[34m[2024-09-15:23:52:05:INFO] Determined 0 GPU(s) available on the instance.\u001b[0m\n",
      "\u001b[34m[2024-09-15:23:52:05:INFO] Determined delimiter of CSV input is ','\u001b[0m\n",
      "\u001b[34m[2024-09-15:23:52:05:INFO] Determined delimiter of CSV input is ','\u001b[0m\n",
      "\u001b[34m[2024-09-15:23:52:05:INFO] File path /opt/ml/input/data/train of input files\u001b[0m\n",
      "\u001b[34m[2024-09-15:23:52:05:INFO] Making smlinks from folder /opt/ml/input/data/train to folder /tmp/sagemaker_xgboost_input_data\u001b[0m\n",
      "\u001b[34m[2024-09-15:23:52:05:INFO] creating symlink between Path /opt/ml/input/data/train/train-data-xgboost and destination /tmp/sagemaker_xgboost_input_data/train-data-xgboost1701746334209352819\u001b[0m\n",
      "\u001b[34m[2024-09-15:23:52:05:INFO] files path: /tmp/sagemaker_xgboost_input_data\u001b[0m\n",
      "\u001b[34m[2024-09-15:23:52:05:INFO] Determined delimiter of CSV input is ','\u001b[0m\n",
      "\u001b[34m[2024-09-15:23:52:05:INFO] File path /opt/ml/input/data/validation of input files\u001b[0m\n",
      "\u001b[34m[2024-09-15:23:52:05:INFO] Making smlinks from folder /opt/ml/input/data/validation to folder /tmp/sagemaker_xgboost_input_data\u001b[0m\n",
      "\u001b[34m[2024-09-15:23:52:05:INFO] creating symlink between Path /opt/ml/input/data/validation/test-data-xgboost and destination /tmp/sagemaker_xgboost_input_data/test-data-xgboost7908484294174731882\u001b[0m\n",
      "\u001b[34m[2024-09-15:23:52:05:INFO] files path: /tmp/sagemaker_xgboost_input_data\u001b[0m\n",
      "\u001b[34m[2024-09-15:23:52:05:INFO] Determined delimiter of CSV input is ','\u001b[0m\n",
      "\u001b[34m[2024-09-15:23:52:05:INFO] Single node training.\u001b[0m\n",
      "\u001b[34m[2024-09-15:23:52:05:INFO] Train matrix has 25392 rows and 31 columns\u001b[0m\n",
      "\u001b[34m[2024-09-15:23:52:05:INFO] Validation matrix has 10883 rows\u001b[0m\n",
      "\u001b[34m[2024-09-15 23:52:05.923 ip-10-2-113-14.ec2.internal:7 INFO json_config.py:92] Creating hook from json_config at /opt/ml/input/config/debughookconfig.json.\u001b[0m\n",
      "\u001b[34m[2024-09-15 23:52:05.924 ip-10-2-113-14.ec2.internal:7 INFO hook.py:206] tensorboard_dir has not been set for the hook. SMDebug will not be exporting tensorboard summaries.\u001b[0m\n",
      "\u001b[34m[2024-09-15 23:52:05.924 ip-10-2-113-14.ec2.internal:7 INFO hook.py:259] Saving to /opt/ml/output/tensors\u001b[0m\n",
      "\u001b[34m[2024-09-15 23:52:05.925 ip-10-2-113-14.ec2.internal:7 INFO state_store.py:77] The checkpoint config file /opt/ml/input/config/checkpointconfig.json does not exist.\u001b[0m\n",
      "\u001b[34m[2024-09-15:23:52:05:INFO] Debug hook created from config\u001b[0m\n",
      "\u001b[34m[0]#011train-rmse:1.26718#011validation-rmse:1.26567\u001b[0m\n",
      "\u001b[34m[2024-09-15 23:52:05.994 ip-10-2-113-14.ec2.internal:7 INFO hook.py:427] Monitoring the collections: metrics\u001b[0m\n",
      "\u001b[34m[2024-09-15 23:52:05.997 ip-10-2-113-14.ec2.internal:7 INFO hook.py:491] Hook is writing from the hook with pid: 7\u001b[0m\n",
      "\u001b[34m[1]#011train-rmse:0.96958#011validation-rmse:0.96954\u001b[0m\n",
      "\u001b[34m[2]#011train-rmse:0.77993#011validation-rmse:0.78150\u001b[0m\n",
      "\u001b[34m[3]#011train-rmse:0.66415#011validation-rmse:0.66819\u001b[0m\n",
      "\u001b[34m[4]#011train-rmse:0.58928#011validation-rmse:0.59421\u001b[0m\n",
      "\u001b[34m[5]#011train-rmse:0.54809#011validation-rmse:0.55461\u001b[0m\n",
      "\u001b[34m[6]#011train-rmse:0.51541#011validation-rmse:0.52328\u001b[0m\n",
      "\u001b[34m[7]#011train-rmse:0.49797#011validation-rmse:0.50630\u001b[0m\n",
      "\u001b[34m[8]#011train-rmse:0.48206#011validation-rmse:0.49111\u001b[0m\n",
      "\u001b[34m[9]#011train-rmse:0.47509#011validation-rmse:0.48543\u001b[0m\n",
      "\u001b[34m[10]#011train-rmse:0.46812#011validation-rmse:0.47892\u001b[0m\n",
      "\u001b[34m[11]#011train-rmse:0.46324#011validation-rmse:0.47531\u001b[0m\n",
      "\u001b[34m[12]#011train-rmse:0.45631#011validation-rmse:0.46978\u001b[0m\n",
      "\u001b[34m[13]#011train-rmse:0.45273#011validation-rmse:0.46728\u001b[0m\n",
      "\u001b[34m[14]#011train-rmse:0.44704#011validation-rmse:0.46315\u001b[0m\n",
      "\u001b[34m[15]#011train-rmse:0.44459#011validation-rmse:0.46065\u001b[0m\n",
      "\u001b[34m[16]#011train-rmse:0.43945#011validation-rmse:0.45738\u001b[0m\n",
      "\u001b[34m[17]#011train-rmse:0.43750#011validation-rmse:0.45601\u001b[0m\n",
      "\u001b[34m[18]#011train-rmse:0.43199#011validation-rmse:0.45131\u001b[0m\n",
      "\u001b[34m[19]#011train-rmse:0.43042#011validation-rmse:0.45013\u001b[0m\n",
      "\u001b[34m[20]#011train-rmse:0.42894#011validation-rmse:0.44906\u001b[0m\n",
      "\u001b[34m[21]#011train-rmse:0.42643#011validation-rmse:0.44688\u001b[0m\n",
      "\u001b[34m[22]#011train-rmse:0.42243#011validation-rmse:0.44349\u001b[0m\n",
      "\u001b[34m[23]#011train-rmse:0.42039#011validation-rmse:0.44235\u001b[0m\n",
      "\u001b[34m[24]#011train-rmse:0.41833#011validation-rmse:0.44111\u001b[0m\n",
      "\u001b[34m[25]#011train-rmse:0.41445#011validation-rmse:0.43879\u001b[0m\n",
      "\u001b[34m[26]#011train-rmse:0.41241#011validation-rmse:0.43759\u001b[0m\n",
      "\u001b[34m[27]#011train-rmse:0.41139#011validation-rmse:0.43695\u001b[0m\n",
      "\u001b[34m[28]#011train-rmse:0.40883#011validation-rmse:0.43537\u001b[0m\n",
      "\u001b[34m[29]#011train-rmse:0.40817#011validation-rmse:0.43505\u001b[0m\n",
      "\u001b[34m[30]#011train-rmse:0.40752#011validation-rmse:0.43470\u001b[0m\n",
      "\u001b[34m[31]#011train-rmse:0.40675#011validation-rmse:0.43416\u001b[0m\n",
      "\u001b[34m[32]#011train-rmse:0.40629#011validation-rmse:0.43389\u001b[0m\n",
      "\u001b[34m[33]#011train-rmse:0.40373#011validation-rmse:0.43239\u001b[0m\n",
      "\u001b[34m[34]#011train-rmse:0.39988#011validation-rmse:0.42955\u001b[0m\n",
      "\u001b[34m[35]#011train-rmse:0.39861#011validation-rmse:0.42860\u001b[0m\n",
      "\u001b[34m[36]#011train-rmse:0.39621#011validation-rmse:0.42744\u001b[0m\n",
      "\u001b[34m[37]#011train-rmse:0.39240#011validation-rmse:0.42477\u001b[0m\n",
      "\u001b[34m[38]#011train-rmse:0.39067#011validation-rmse:0.42401\u001b[0m\n",
      "\u001b[34m[39]#011train-rmse:0.39027#011validation-rmse:0.42380\u001b[0m\n",
      "\u001b[34m[40]#011train-rmse:0.38779#011validation-rmse:0.42215\u001b[0m\n",
      "\u001b[34m[41]#011train-rmse:0.38650#011validation-rmse:0.42171\u001b[0m\n",
      "\u001b[34m[42]#011train-rmse:0.38463#011validation-rmse:0.42040\u001b[0m\n",
      "\u001b[34m[43]#011train-rmse:0.38364#011validation-rmse:0.41978\u001b[0m\n",
      "\u001b[34m[44]#011train-rmse:0.38317#011validation-rmse:0.41962\u001b[0m\n",
      "\u001b[34m[45]#011train-rmse:0.38295#011validation-rmse:0.41963\u001b[0m\n",
      "\u001b[34m[46]#011train-rmse:0.38247#011validation-rmse:0.41950\u001b[0m\n",
      "\u001b[34m[47]#011train-rmse:0.38232#011validation-rmse:0.41947\u001b[0m\n",
      "\u001b[34m[48]#011train-rmse:0.38127#011validation-rmse:0.41901\u001b[0m\n",
      "\u001b[34m[49]#011train-rmse:0.38000#011validation-rmse:0.41857\u001b[0m\n",
      "\u001b[34m[50]#011train-rmse:0.37930#011validation-rmse:0.41820\u001b[0m\n",
      "\u001b[34m[51]#011train-rmse:0.37750#011validation-rmse:0.41726\u001b[0m\n",
      "\u001b[34m[52]#011train-rmse:0.37688#011validation-rmse:0.41703\u001b[0m\n",
      "\u001b[34m[53]#011train-rmse:0.37646#011validation-rmse:0.41687\u001b[0m\n",
      "\u001b[34m[54]#011train-rmse:0.37592#011validation-rmse:0.41661\u001b[0m\n",
      "\u001b[34m[55]#011train-rmse:0.37571#011validation-rmse:0.41648\u001b[0m\n",
      "\u001b[34m[56]#011train-rmse:0.37538#011validation-rmse:0.41649\u001b[0m\n",
      "\u001b[34m[57]#011train-rmse:0.37350#011validation-rmse:0.41531\u001b[0m\n",
      "\u001b[34m[58]#011train-rmse:0.37337#011validation-rmse:0.41518\u001b[0m\n",
      "\u001b[34m[59]#011train-rmse:0.37248#011validation-rmse:0.41470\u001b[0m\n",
      "\u001b[34m[60]#011train-rmse:0.37063#011validation-rmse:0.41333\u001b[0m\n",
      "\u001b[34m[61]#011train-rmse:0.36967#011validation-rmse:0.41290\u001b[0m\n",
      "\u001b[34m[62]#011train-rmse:0.36788#011validation-rmse:0.41214\u001b[0m\n",
      "\u001b[34m[63]#011train-rmse:0.36590#011validation-rmse:0.41110\u001b[0m\n",
      "\u001b[34m[64]#011train-rmse:0.36539#011validation-rmse:0.41095\u001b[0m\n",
      "\u001b[34m[65]#011train-rmse:0.36414#011validation-rmse:0.41034\u001b[0m\n",
      "\u001b[34m[66]#011train-rmse:0.36342#011validation-rmse:0.41009\u001b[0m\n",
      "\u001b[34m[67]#011train-rmse:0.36240#011validation-rmse:0.40943\u001b[0m\n",
      "\u001b[34m[68]#011train-rmse:0.36103#011validation-rmse:0.40897\u001b[0m\n",
      "\u001b[34m[69]#011train-rmse:0.35958#011validation-rmse:0.40807\u001b[0m\n",
      "\u001b[34m[70]#011train-rmse:0.35841#011validation-rmse:0.40695\u001b[0m\n",
      "\u001b[34m[71]#011train-rmse:0.35726#011validation-rmse:0.40632\u001b[0m\n",
      "\u001b[34m[72]#011train-rmse:0.35631#011validation-rmse:0.40612\u001b[0m\n",
      "\u001b[34m[73]#011train-rmse:0.35561#011validation-rmse:0.40584\u001b[0m\n",
      "\u001b[34m[74]#011train-rmse:0.35477#011validation-rmse:0.40539\u001b[0m\n",
      "\u001b[34m[75]#011train-rmse:0.35433#011validation-rmse:0.40528\u001b[0m\n",
      "\u001b[34m[76]#011train-rmse:0.35374#011validation-rmse:0.40511\u001b[0m\n",
      "\u001b[34m[77]#011train-rmse:0.35312#011validation-rmse:0.40484\u001b[0m\n",
      "\u001b[34m[78]#011train-rmse:0.35296#011validation-rmse:0.40478\u001b[0m\n",
      "\u001b[34m[79]#011train-rmse:0.35282#011validation-rmse:0.40481\u001b[0m\n",
      "\u001b[34m[80]#011train-rmse:0.35127#011validation-rmse:0.40389\u001b[0m\n",
      "\u001b[34m[81]#011train-rmse:0.35052#011validation-rmse:0.40347\u001b[0m\n",
      "\u001b[34m[82]#011train-rmse:0.34970#011validation-rmse:0.40295\u001b[0m\n",
      "\u001b[34m[83]#011train-rmse:0.34920#011validation-rmse:0.40282\u001b[0m\n",
      "\u001b[34m[84]#011train-rmse:0.34869#011validation-rmse:0.40250\u001b[0m\n",
      "\u001b[34m[85]#011train-rmse:0.34821#011validation-rmse:0.40239\u001b[0m\n",
      "\u001b[34m[86]#011train-rmse:0.34816#011validation-rmse:0.40236\u001b[0m\n",
      "\u001b[34m[87]#011train-rmse:0.34722#011validation-rmse:0.40219\u001b[0m\n",
      "\u001b[34m[88]#011train-rmse:0.34611#011validation-rmse:0.40179\u001b[0m\n",
      "\u001b[34m[89]#011train-rmse:0.34516#011validation-rmse:0.40159\u001b[0m\n",
      "\u001b[34m[90]#011train-rmse:0.34424#011validation-rmse:0.40102\u001b[0m\n",
      "\u001b[34m[91]#011train-rmse:0.34409#011validation-rmse:0.40106\u001b[0m\n",
      "\u001b[34m[92]#011train-rmse:0.34399#011validation-rmse:0.40106\u001b[0m\n",
      "\u001b[34m[93]#011train-rmse:0.34389#011validation-rmse:0.40105\u001b[0m\n",
      "\u001b[34m[94]#011train-rmse:0.34268#011validation-rmse:0.40055\u001b[0m\n",
      "\u001b[34m[95]#011train-rmse:0.34227#011validation-rmse:0.40041\u001b[0m\n",
      "\u001b[34m[96]#011train-rmse:0.34153#011validation-rmse:0.40004\u001b[0m\n",
      "\u001b[34m[97]#011train-rmse:0.34096#011validation-rmse:0.39979\u001b[0m\n",
      "\u001b[34m[98]#011train-rmse:0.34027#011validation-rmse:0.39942\u001b[0m\n",
      "\u001b[34m[99]#011train-rmse:0.33839#011validation-rmse:0.39822\u001b[0m\n",
      "\n",
      "2024-09-15 23:52:25 Uploading - Uploading generated training model\n",
      "2024-09-15 23:52:25 Completed - Training job completed\n",
      "Training seconds: 102\n",
      "Billable seconds: 102\n"
     ]
    }
   ],
   "source": [
    "xgboost.fit(data_channels)"
   ]
  },
  {
   "cell_type": "markdown",
   "id": "3c208dfb-7b7f-4442-835a-7e91fec35658",
   "metadata": {},
   "source": [
    "# Avaliação"
   ]
  },
  {
   "cell_type": "code",
   "execution_count": 24,
   "id": "2b108456-0b43-49fd-93f5-0fc00794bdb0",
   "metadata": {},
   "outputs": [
    {
     "name": "stderr",
     "output_type": "stream",
     "text": [
      "INFO:sagemaker:Creating model with name: sagemaker-xgboost-2024-09-15-23-53-11-339\n",
      "INFO:sagemaker:Creating endpoint-config with name sagemaker-xgboost-2024-09-15-23-53-11-339\n",
      "INFO:sagemaker:Creating endpoint with name sagemaker-xgboost-2024-09-15-23-53-11-339\n"
     ]
    },
    {
     "name": "stdout",
     "output_type": "stream",
     "text": [
      "-----------!"
     ]
    }
   ],
   "source": [
    "xgboost_regressor = xgboost.deploy(initial_instance_count=1, instance_type='ml.m4.xlarge')"
   ]
  },
  {
   "cell_type": "code",
   "execution_count": 25,
   "id": "e1daa886-94d1-4157-a6af-3f058a836314",
   "metadata": {},
   "outputs": [],
   "source": [
    "from sagemaker.serializers import CSVSerializer\n",
    "\n",
    "xgboost_regressor.serializer = CSVSerializer()"
   ]
  },
  {
   "cell_type": "code",
   "execution_count": 26,
   "id": "289a3e6d-3a19-4fc1-a63c-5472f70a1c1a",
   "metadata": {},
   "outputs": [
    {
     "data": {
      "text/plain": [
       "((10883, 31), numpy.ndarray)"
      ]
     },
     "execution_count": 26,
     "metadata": {},
     "output_type": "execute_result"
    }
   ],
   "source": [
    "X_test.shape, type(X_test)"
   ]
  },
  {
   "cell_type": "code",
   "execution_count": 27,
   "id": "f77faf91-ceba-4959-a48f-89e5930a1231",
   "metadata": {},
   "outputs": [
    {
     "data": {
      "text/plain": [
       "array([2.5652454, 1.3122922, 1.8439097, ..., 1.5989388, 2.9506352,\n",
       "       2.0021849], dtype=float32)"
      ]
     },
     "execution_count": 27,
     "metadata": {},
     "output_type": "execute_result"
    }
   ],
   "source": [
    "previsoes = np.array(xgboost_regressor.predict(X_test).decode('utf-8').split('\\n'))\n",
    "previsoes = [x for x in previsoes if x]\n",
    "previsoes = np.array(previsoes).astype(np.float32)\n",
    "previsoes"
   ]
  },
  {
   "cell_type": "code",
   "execution_count": 28,
   "id": "e887581b-2a67-4cdf-99b9-2a6fa5ee6673",
   "metadata": {},
   "outputs": [
    {
     "data": {
      "text/plain": [
       "((10883,), (10883,))"
      ]
     },
     "execution_count": 28,
     "metadata": {},
     "output_type": "execute_result"
    }
   ],
   "source": [
    "previsoes.shape, y_test.shape"
   ]
  },
  {
   "cell_type": "code",
   "execution_count": 29,
   "id": "1f98b7b8-6340-494f-bf6c-e081c69d1516",
   "metadata": {},
   "outputs": [
    {
     "name": "stdout",
     "output_type": "stream",
     "text": [
      "MAE = 0.28211843967437744\n",
      "MSE = 0.1585792452096939\n"
     ]
    }
   ],
   "source": [
    "from sklearn.metrics import mean_absolute_error, mean_squared_error\n",
    "mae = mean_absolute_error(y_test, previsoes)\n",
    "mse = mean_squared_error(y_test, previsoes)\n",
    "print(f'MAE = {mae}\\nMSE = {mse}')"
   ]
  },
  {
   "cell_type": "markdown",
   "id": "8b3605f7-04e1-4f56-a653-0f7a842ed6a6",
   "metadata": {},
   "source": [
    "# Tuning"
   ]
  },
  {
   "cell_type": "code",
   "execution_count": 30,
   "id": "787edbb7-54b7-4cab-96d5-961f43b1618d",
   "metadata": {},
   "outputs": [],
   "source": [
    "tuning_job_config = {\n",
    "    \"ParameterRanges\" : {\n",
    "        \"CategoricalParameterRanges\": [],\n",
    "        \"ContinuousParameterRanges\": [\n",
    "            {\n",
    "                \"MaxValue\": \"1\",\n",
    "                \"MinValue\": \"0\",\n",
    "                \"Name\": \"eta\"\n",
    "            },\n",
    "            {\n",
    "                \"MaxValue\": \"2\",\n",
    "                \"MinValue\": \"0\",\n",
    "                \"Name\": \"alpha\"\n",
    "            },\n",
    "            {\n",
    "                \"MaxValue\": \"10\",\n",
    "                \"MinValue\": \"1\",\n",
    "                \"Name\": \"min_child_weight\"\n",
    "            }\n",
    "        ],\n",
    "        \"IntegerParameterRanges\": [\n",
    "            {\n",
    "                \"MaxValue\": \"10\",\n",
    "                \"MinValue\": \"1\",\n",
    "                \"Name\": \"max_depth\"\n",
    "            }\n",
    "        ],\n",
    "        \"IntegerParameterRanges\": [\n",
    "            {\n",
    "                \"MaxValue\": \"300\",\n",
    "                \"MinValue\": \"50\",\n",
    "                \"Name\": \"num_round\"\n",
    "            }\n",
    "        ]\n",
    "    },\n",
    "    \"ResourceLimits\": {\n",
    "        \"MaxNumberOfTrainingJobs\": 9,\n",
    "        \"MaxParallelTrainingJobs\": 3\n",
    "    },\n",
    "    \"Strategy\": \"Bayesian\",\n",
    "    \"HyperParameterTuningJobObjective\": {\n",
    "        \"MetricName\": \"validation:rmse\",\n",
    "        \"Type\": \"Minimize\"\n",
    "    }\n",
    "}"
   ]
  },
  {
   "cell_type": "code",
   "execution_count": 31,
   "id": "747ac3fa-9b77-480d-ae90-60b8096b4f47",
   "metadata": {},
   "outputs": [],
   "source": [
    "training_job_definition = {\n",
    "    \"AlgorithmSpecification\": {\n",
    "        \"TrainingImage\": container, \n",
    "        \"TrainingInputMode\": \"File\"\n",
    "    },\n",
    "    \"InputDataConfig\": [\n",
    "        {\n",
    "            \"ChannelName\": \"train\",\n",
    "            \"CompressionType\": \"None\",\n",
    "            \"ContentType\": \"csv\",\n",
    "            \"DataSource\": {\n",
    "                \"S3DataSource\": {\n",
    "                    \"S3DataDistributionType\": \"FullyReplicated\",\n",
    "                    \"S3DataType\": \"S3Prefix\",\n",
    "                    \"S3Uri\": s3_train_data\n",
    "                }\n",
    "            }\n",
    "        },\n",
    "        {\n",
    "            \"ChannelName\": \"validation\",\n",
    "            \"CompressionType\": \"None\",\n",
    "            \"ContentType\": \"csv\",\n",
    "            \"DataSource\": {\n",
    "                \"S3DataSource\": {\n",
    "                    \"S3DataDistributionType\": \"FullyReplicated\",\n",
    "                    \"S3DataType\": \"S3Prefix\",\n",
    "                    \"S3Uri\": s3_test_data\n",
    "                }\n",
    "            }\n",
    "        }\n",
    "    ],\n",
    "    \"OutputDataConfig\": {\n",
    "        \"S3OutputPath\": f's3://{bucket}/{subfolder}/output'\n",
    "    },\n",
    "    \"ResourceConfig\": {\n",
    "        \"InstanceCount\": 2,\n",
    "        \"InstanceType\": \"ml.c4.2xlarge\",\n",
    "        \"VolumeSizeInGB\": 10\n",
    "    },\n",
    "    \"RoleArn\": role,\n",
    "    \"StaticHyperParameters\": {\n",
    "        \"eval_metric\": \"rmse\",\n",
    "        \"objective\": \"reg:linear\",\n",
    "        \"rate_drop\": \"0.3\",\n",
    "        \"tweedie_variance_power\": \"1.4\"\n",
    "    },\n",
    "    \"StoppingCondition\": {\n",
    "        \"MaxRuntimeInSeconds\": 43200\n",
    "    }\n",
    "}"
   ]
  },
  {
   "cell_type": "code",
   "execution_count": 33,
   "id": "8493ec1c-23d1-4c24-a9b9-ae232ff3dc14",
   "metadata": {},
   "outputs": [
    {
     "data": {
      "text/plain": [
       "{'HyperParameterTuningJobArn': 'arn:aws:sagemaker:us-east-1:654654631603:hyper-parameter-tuning-job/xgboosttuning-hotel',\n",
       " 'ResponseMetadata': {'RequestId': '3d03c336-1d6d-4f5e-97af-9df2293ca8fb',\n",
       "  'HTTPStatusCode': 200,\n",
       "  'HTTPHeaders': {'x-amzn-requestid': '3d03c336-1d6d-4f5e-97af-9df2293ca8fb',\n",
       "   'content-type': 'application/x-amz-json-1.1',\n",
       "   'content-length': '120',\n",
       "   'date': 'Mon, 16 Sep 2024 00:00:19 GMT'},\n",
       "  'RetryAttempts': 0}}"
      ]
     },
     "execution_count": 33,
     "metadata": {},
     "output_type": "execute_result"
    }
   ],
   "source": [
    "smclient = boto3.client('sagemaker')\n",
    "smclient.create_hyper_parameter_tuning_job(HyperParameterTuningJobName = 'xgboosttuning-hotel', HyperParameterTuningJobConfig = tuning_job_config, TrainingJobDefinition = training_job_definition)"
   ]
  },
  {
   "cell_type": "markdown",
   "id": "12ce1513-e85a-48cc-9c86-2065970e4b7a",
   "metadata": {},
   "source": [
    "# Modelo otimizado"
   ]
  },
  {
   "cell_type": "code",
   "execution_count": 36,
   "id": "fca42fd8-20b1-4d9a-9200-76b7a547b79b",
   "metadata": {},
   "outputs": [
    {
     "name": "stderr",
     "output_type": "stream",
     "text": [
      "INFO:sagemaker.image_uris:Ignoring unnecessary instance type: None.\n"
     ]
    }
   ],
   "source": [
    "container = image_uris.retrieve(framework='xgboost', region=boto3.Session().region_name, version='1.7-1')\n",
    "xgboostTuning = sagemaker.estimator.Estimator(image_uri=container, role=role, instance_count=1, instance_type='ml.m5.2xlarge', output_path=output_location, sagemaker_session=session)\n",
    "xgboostTuning.set_hyperparameters(num_round=211, eta=0.5295033866583916, min_child_weight=4.108690686338631, alpha=1.974355903913699, tweedie_variance_power=1.4, rate_drop=\t0.3 ,objective='reg:squarederror')"
   ]
  },
  {
   "cell_type": "code",
   "execution_count": 37,
   "id": "92a49cf6-b392-49f8-893a-9af7e7a3c4cd",
   "metadata": {},
   "outputs": [
    {
     "name": "stderr",
     "output_type": "stream",
     "text": [
      "INFO:sagemaker:Creating training-job with name: sagemaker-xgboost-2024-09-16-00-18-36-300\n"
     ]
    },
    {
     "name": "stdout",
     "output_type": "stream",
     "text": [
      "2024-09-16 00:18:37 Starting - Starting the training job...\n",
      "2024-09-16 00:18:51 Starting - Preparing the instances for training...\n",
      "2024-09-16 00:19:34 Downloading - Downloading the training image......\n",
      "2024-09-16 00:20:20 Training - Training image download completed. Training in progress..\u001b[34m[2024-09-16 00:20:41.092 ip-10-2-100-149.ec2.internal:7 INFO utils.py:28] RULE_JOB_STOP_SIGNAL_FILENAME: None\u001b[0m\n",
      "\u001b[34m[2024-09-16 00:20:41.113 ip-10-2-100-149.ec2.internal:7 INFO profiler_config_parser.py:111] User has disabled profiler.\u001b[0m\n",
      "\u001b[34m[2024-09-16:00:20:41:INFO] Imported framework sagemaker_xgboost_container.training\u001b[0m\n",
      "\u001b[34m[2024-09-16:00:20:41:INFO] Failed to parse hyperparameter objective value reg:squarederror to Json.\u001b[0m\n",
      "\u001b[34mReturning the value itself\u001b[0m\n",
      "\u001b[34m[2024-09-16:00:20:41:INFO] No GPUs detected (normal if no gpus installed)\u001b[0m\n",
      "\u001b[34m[2024-09-16:00:20:41:INFO] Running XGBoost Sagemaker in algorithm mode\u001b[0m\n",
      "\u001b[34m[2024-09-16:00:20:41:INFO] Determined 0 GPU(s) available on the instance.\u001b[0m\n",
      "\u001b[34m[2024-09-16:00:20:41:INFO] Determined delimiter of CSV input is ','\u001b[0m\n",
      "\u001b[34m[2024-09-16:00:20:41:INFO] Determined delimiter of CSV input is ','\u001b[0m\n",
      "\u001b[34m[2024-09-16:00:20:41:INFO] File path /opt/ml/input/data/train of input files\u001b[0m\n",
      "\u001b[34m[2024-09-16:00:20:41:INFO] Making smlinks from folder /opt/ml/input/data/train to folder /tmp/sagemaker_xgboost_input_data\u001b[0m\n",
      "\u001b[34m[2024-09-16:00:20:41:INFO] creating symlink between Path /opt/ml/input/data/train/train-data-xgboost and destination /tmp/sagemaker_xgboost_input_data/train-data-xgboost6834331162646337128\u001b[0m\n",
      "\u001b[34m[2024-09-16:00:20:41:INFO] files path: /tmp/sagemaker_xgboost_input_data\u001b[0m\n",
      "\u001b[34m[2024-09-16:00:20:41:INFO] Determined delimiter of CSV input is ','\u001b[0m\n",
      "\u001b[34m[2024-09-16:00:20:41:INFO] File path /opt/ml/input/data/validation of input files\u001b[0m\n",
      "\u001b[34m[2024-09-16:00:20:41:INFO] Making smlinks from folder /opt/ml/input/data/validation to folder /tmp/sagemaker_xgboost_input_data\u001b[0m\n",
      "\u001b[34m[2024-09-16:00:20:41:INFO] creating symlink between Path /opt/ml/input/data/validation/test-data-xgboost and destination /tmp/sagemaker_xgboost_input_data/test-data-xgboost3034005412512141825\u001b[0m\n",
      "\u001b[34m[2024-09-16:00:20:41:INFO] files path: /tmp/sagemaker_xgboost_input_data\u001b[0m\n",
      "\u001b[34m[2024-09-16:00:20:41:INFO] Determined delimiter of CSV input is ','\u001b[0m\n",
      "\u001b[34m[2024-09-16:00:20:41:INFO] Single node training.\u001b[0m\n",
      "\u001b[34m[2024-09-16:00:20:41:INFO] Train matrix has 25392 rows and 31 columns\u001b[0m\n",
      "\u001b[34m[2024-09-16:00:20:41:INFO] Validation matrix has 10883 rows\u001b[0m\n",
      "\u001b[34m[2024-09-16 00:20:41.577 ip-10-2-100-149.ec2.internal:7 INFO json_config.py:92] Creating hook from json_config at /opt/ml/input/config/debughookconfig.json.\u001b[0m\n",
      "\u001b[34m[2024-09-16 00:20:41.577 ip-10-2-100-149.ec2.internal:7 INFO hook.py:206] tensorboard_dir has not been set for the hook. SMDebug will not be exporting tensorboard summaries.\u001b[0m\n",
      "\u001b[34m[2024-09-16 00:20:41.578 ip-10-2-100-149.ec2.internal:7 INFO hook.py:259] Saving to /opt/ml/output/tensors\u001b[0m\n",
      "\u001b[34m[2024-09-16 00:20:41.578 ip-10-2-100-149.ec2.internal:7 INFO state_store.py:77] The checkpoint config file /opt/ml/input/config/checkpointconfig.json does not exist.\u001b[0m\n",
      "\u001b[34m[2024-09-16:00:20:41:INFO] Debug hook created from config\u001b[0m\n",
      "\u001b[34m[00:20:41] WARNING: ../src/learner.cc:767: \u001b[0m\n",
      "\u001b[34mParameters: { \"rate_drop\", \"tweedie_variance_power\" } are not used.\u001b[0m\n",
      "\u001b[34m[2024-09-16 00:20:41.632 ip-10-2-100-149.ec2.internal:7 INFO hook.py:427] Monitoring the collections: metrics\u001b[0m\n",
      "\u001b[34m[2024-09-16 00:20:41.634 ip-10-2-100-149.ec2.internal:7 INFO hook.py:491] Hook is writing from the hook with pid: 7\u001b[0m\n",
      "\u001b[34m[0]#011train-rmse:0.95159#011validation-rmse:0.95060\u001b[0m\n",
      "\u001b[34m[1]#011train-rmse:0.66227#011validation-rmse:0.66467\u001b[0m\n",
      "\u001b[34m[2]#011train-rmse:0.55633#011validation-rmse:0.56275\u001b[0m\n",
      "\u001b[34m[3]#011train-rmse:0.51887#011validation-rmse:0.52690\u001b[0m\n",
      "\u001b[34m[4]#011train-rmse:0.49764#011validation-rmse:0.50822\u001b[0m\n",
      "\u001b[34m[5]#011train-rmse:0.48439#011validation-rmse:0.49595\u001b[0m\n",
      "\u001b[34m[6]#011train-rmse:0.47356#011validation-rmse:0.48662\u001b[0m\n",
      "\u001b[34m[7]#011train-rmse:0.46571#011validation-rmse:0.47914\u001b[0m\n",
      "\u001b[34m[8]#011train-rmse:0.45964#011validation-rmse:0.47365\u001b[0m\n",
      "\u001b[34m[9]#011train-rmse:0.45293#011validation-rmse:0.46794\u001b[0m\n",
      "\u001b[34m[10]#011train-rmse:0.44944#011validation-rmse:0.46521\u001b[0m\n",
      "\u001b[34m[11]#011train-rmse:0.44007#011validation-rmse:0.45720\u001b[0m\n",
      "\u001b[34m[12]#011train-rmse:0.43266#011validation-rmse:0.45253\u001b[0m\n",
      "\u001b[34m[13]#011train-rmse:0.43074#011validation-rmse:0.45095\u001b[0m\n",
      "\u001b[34m[14]#011train-rmse:0.42761#011validation-rmse:0.44892\u001b[0m\n",
      "\u001b[34m[15]#011train-rmse:0.42482#011validation-rmse:0.44708\u001b[0m\n",
      "\u001b[34m[16]#011train-rmse:0.41959#011validation-rmse:0.44364\u001b[0m\n",
      "\u001b[34m[17]#011train-rmse:0.41376#011validation-rmse:0.43828\u001b[0m\n",
      "\u001b[34m[18]#011train-rmse:0.41204#011validation-rmse:0.43684\u001b[0m\n",
      "\u001b[34m[19]#011train-rmse:0.41062#011validation-rmse:0.43595\u001b[0m\n",
      "\u001b[34m[20]#011train-rmse:0.40981#011validation-rmse:0.43585\u001b[0m\n",
      "\u001b[34m[21]#011train-rmse:0.40843#011validation-rmse:0.43505\u001b[0m\n",
      "\u001b[34m[22]#011train-rmse:0.40690#011validation-rmse:0.43397\u001b[0m\n",
      "\u001b[34m[23]#011train-rmse:0.40366#011validation-rmse:0.43152\u001b[0m\n",
      "\u001b[34m[24]#011train-rmse:0.40108#011validation-rmse:0.42974\u001b[0m\n",
      "\u001b[34m[25]#011train-rmse:0.39957#011validation-rmse:0.42920\u001b[0m\n",
      "\u001b[34m[26]#011train-rmse:0.39636#011validation-rmse:0.42738\u001b[0m\n",
      "\u001b[34m[27]#011train-rmse:0.39397#011validation-rmse:0.42606\u001b[0m\n",
      "\u001b[34m[28]#011train-rmse:0.39232#011validation-rmse:0.42471\u001b[0m\n",
      "\u001b[34m[29]#011train-rmse:0.39193#011validation-rmse:0.42437\u001b[0m\n",
      "\u001b[34m[30]#011train-rmse:0.38900#011validation-rmse:0.42291\u001b[0m\n",
      "\u001b[34m[31]#011train-rmse:0.38698#011validation-rmse:0.42180\u001b[0m\n",
      "\u001b[34m[32]#011train-rmse:0.38482#011validation-rmse:0.42075\u001b[0m\n",
      "\u001b[34m[33]#011train-rmse:0.38234#011validation-rmse:0.41936\u001b[0m\n",
      "\u001b[34m[34]#011train-rmse:0.38083#011validation-rmse:0.41845\u001b[0m\n",
      "\u001b[34m[35]#011train-rmse:0.37885#011validation-rmse:0.41767\u001b[0m\n",
      "\u001b[34m[36]#011train-rmse:0.37644#011validation-rmse:0.41620\u001b[0m\n",
      "\u001b[34m[37]#011train-rmse:0.37429#011validation-rmse:0.41476\u001b[0m\n",
      "\u001b[34m[38]#011train-rmse:0.37289#011validation-rmse:0.41349\u001b[0m\n",
      "\u001b[34m[39]#011train-rmse:0.37095#011validation-rmse:0.41200\u001b[0m\n",
      "\u001b[34m[40]#011train-rmse:0.37005#011validation-rmse:0.41149\u001b[0m\n",
      "\u001b[34m[41]#011train-rmse:0.36899#011validation-rmse:0.41105\u001b[0m\n",
      "\u001b[34m[42]#011train-rmse:0.36804#011validation-rmse:0.41075\u001b[0m\n",
      "\u001b[34m[43]#011train-rmse:0.36696#011validation-rmse:0.41040\u001b[0m\n",
      "\u001b[34m[44]#011train-rmse:0.36592#011validation-rmse:0.41020\u001b[0m\n",
      "\u001b[34m[45]#011train-rmse:0.36470#011validation-rmse:0.40960\u001b[0m\n",
      "\u001b[34m[46]#011train-rmse:0.36382#011validation-rmse:0.40949\u001b[0m\n",
      "\u001b[34m[47]#011train-rmse:0.36230#011validation-rmse:0.40834\u001b[0m\n",
      "\u001b[34m[48]#011train-rmse:0.36002#011validation-rmse:0.40673\u001b[0m\n",
      "\u001b[34m[49]#011train-rmse:0.35845#011validation-rmse:0.40565\u001b[0m\n",
      "\u001b[34m[50]#011train-rmse:0.35690#011validation-rmse:0.40477\u001b[0m\n",
      "\u001b[34m[51]#011train-rmse:0.35553#011validation-rmse:0.40444\u001b[0m\n",
      "\u001b[34m[52]#011train-rmse:0.35489#011validation-rmse:0.40409\u001b[0m\n",
      "\u001b[34m[53]#011train-rmse:0.35419#011validation-rmse:0.40400\u001b[0m\n",
      "\u001b[34m[54]#011train-rmse:0.35317#011validation-rmse:0.40385\u001b[0m\n",
      "\u001b[34m[55]#011train-rmse:0.35205#011validation-rmse:0.40319\u001b[0m\n",
      "\u001b[34m[56]#011train-rmse:0.35165#011validation-rmse:0.40304\u001b[0m\n",
      "\u001b[34m[57]#011train-rmse:0.35065#011validation-rmse:0.40238\u001b[0m\n",
      "\u001b[34m[58]#011train-rmse:0.34984#011validation-rmse:0.40203\u001b[0m\n",
      "\u001b[34m[59]#011train-rmse:0.34920#011validation-rmse:0.40181\u001b[0m\n",
      "\u001b[34m[60]#011train-rmse:0.34773#011validation-rmse:0.40157\u001b[0m\n",
      "\u001b[34m[61]#011train-rmse:0.34718#011validation-rmse:0.40110\u001b[0m\n",
      "\u001b[34m[62]#011train-rmse:0.34632#011validation-rmse:0.40075\u001b[0m\n",
      "\u001b[34m[63]#011train-rmse:0.34499#011validation-rmse:0.39991\u001b[0m\n",
      "\u001b[34m[64]#011train-rmse:0.34414#011validation-rmse:0.39954\u001b[0m\n",
      "\u001b[34m[65]#011train-rmse:0.34352#011validation-rmse:0.39944\u001b[0m\n",
      "\u001b[34m[66]#011train-rmse:0.34234#011validation-rmse:0.39890\u001b[0m\n",
      "\u001b[34m[67]#011train-rmse:0.34155#011validation-rmse:0.39879\u001b[0m\n",
      "\u001b[34m[68]#011train-rmse:0.34045#011validation-rmse:0.39861\u001b[0m\n",
      "\u001b[34m[69]#011train-rmse:0.33931#011validation-rmse:0.39837\u001b[0m\n",
      "\u001b[34m[70]#011train-rmse:0.33836#011validation-rmse:0.39784\u001b[0m\n",
      "\u001b[34m[71]#011train-rmse:0.33765#011validation-rmse:0.39743\u001b[0m\n",
      "\u001b[34m[72]#011train-rmse:0.33700#011validation-rmse:0.39731\u001b[0m\n",
      "\u001b[34m[73]#011train-rmse:0.33623#011validation-rmse:0.39675\u001b[0m\n",
      "\u001b[34m[74]#011train-rmse:0.33513#011validation-rmse:0.39640\u001b[0m\n",
      "\u001b[34m[75]#011train-rmse:0.33426#011validation-rmse:0.39593\u001b[0m\n",
      "\u001b[34m[76]#011train-rmse:0.33350#011validation-rmse:0.39569\u001b[0m\n",
      "\u001b[34m[77]#011train-rmse:0.33273#011validation-rmse:0.39540\u001b[0m\n",
      "\u001b[34m[78]#011train-rmse:0.33263#011validation-rmse:0.39535\u001b[0m\n",
      "\u001b[34m[79]#011train-rmse:0.33197#011validation-rmse:0.39534\u001b[0m\n",
      "\u001b[34m[80]#011train-rmse:0.33103#011validation-rmse:0.39471\u001b[0m\n",
      "\u001b[34m[81]#011train-rmse:0.32955#011validation-rmse:0.39406\u001b[0m\n",
      "\u001b[34m[82]#011train-rmse:0.32866#011validation-rmse:0.39387\u001b[0m\n",
      "\u001b[34m[83]#011train-rmse:0.32784#011validation-rmse:0.39378\u001b[0m\n",
      "\u001b[34m[84]#011train-rmse:0.32719#011validation-rmse:0.39338\u001b[0m\n",
      "\u001b[34m[85]#011train-rmse:0.32596#011validation-rmse:0.39289\u001b[0m\n",
      "\u001b[34m[86]#011train-rmse:0.32500#011validation-rmse:0.39263\u001b[0m\n",
      "\u001b[34m[87]#011train-rmse:0.32444#011validation-rmse:0.39255\u001b[0m\n",
      "\u001b[34m[88]#011train-rmse:0.32430#011validation-rmse:0.39251\u001b[0m\n",
      "\u001b[34m[89]#011train-rmse:0.32300#011validation-rmse:0.39201\u001b[0m\n",
      "\u001b[34m[90]#011train-rmse:0.32237#011validation-rmse:0.39208\u001b[0m\n",
      "\u001b[34m[91]#011train-rmse:0.32175#011validation-rmse:0.39194\u001b[0m\n",
      "\u001b[34m[92]#011train-rmse:0.32133#011validation-rmse:0.39188\u001b[0m\n",
      "\u001b[34m[93]#011train-rmse:0.32071#011validation-rmse:0.39153\u001b[0m\n",
      "\u001b[34m[94]#011train-rmse:0.32000#011validation-rmse:0.39121\u001b[0m\n",
      "\u001b[34m[95]#011train-rmse:0.31955#011validation-rmse:0.39107\u001b[0m\n",
      "\u001b[34m[96]#011train-rmse:0.31898#011validation-rmse:0.39110\u001b[0m\n",
      "\u001b[34m[97]#011train-rmse:0.31833#011validation-rmse:0.39115\u001b[0m\n",
      "\u001b[34m[98]#011train-rmse:0.31766#011validation-rmse:0.39109\u001b[0m\n",
      "\u001b[34m[99]#011train-rmse:0.31679#011validation-rmse:0.39071\u001b[0m\n",
      "\u001b[34m[100]#011train-rmse:0.31605#011validation-rmse:0.39068\u001b[0m\n",
      "\u001b[34m[101]#011train-rmse:0.31576#011validation-rmse:0.39062\u001b[0m\n",
      "\u001b[34m[102]#011train-rmse:0.31493#011validation-rmse:0.39032\u001b[0m\n",
      "\u001b[34m[103]#011train-rmse:0.31440#011validation-rmse:0.39006\u001b[0m\n",
      "\u001b[34m[104]#011train-rmse:0.31363#011validation-rmse:0.38967\u001b[0m\n",
      "\u001b[34m[105]#011train-rmse:0.31274#011validation-rmse:0.38892\u001b[0m\n",
      "\u001b[34m[106]#011train-rmse:0.31218#011validation-rmse:0.38878\u001b[0m\n",
      "\u001b[34m[107]#011train-rmse:0.31158#011validation-rmse:0.38874\u001b[0m\n",
      "\u001b[34m[108]#011train-rmse:0.31112#011validation-rmse:0.38872\u001b[0m\n",
      "\u001b[34m[109]#011train-rmse:0.31081#011validation-rmse:0.38863\u001b[0m\n",
      "\u001b[34m[110]#011train-rmse:0.31045#011validation-rmse:0.38861\u001b[0m\n",
      "\u001b[34m[111]#011train-rmse:0.30989#011validation-rmse:0.38848\u001b[0m\n",
      "\u001b[34m[112]#011train-rmse:0.30924#011validation-rmse:0.38815\u001b[0m\n",
      "\u001b[34m[113]#011train-rmse:0.30849#011validation-rmse:0.38801\u001b[0m\n",
      "\u001b[34m[114]#011train-rmse:0.30772#011validation-rmse:0.38770\u001b[0m\n",
      "\u001b[34m[115]#011train-rmse:0.30707#011validation-rmse:0.38764\u001b[0m\n",
      "\u001b[34m[116]#011train-rmse:0.30625#011validation-rmse:0.38734\u001b[0m\n",
      "\u001b[34m[117]#011train-rmse:0.30579#011validation-rmse:0.38713\u001b[0m\n",
      "\u001b[34m[118]#011train-rmse:0.30505#011validation-rmse:0.38686\u001b[0m\n",
      "\u001b[34m[119]#011train-rmse:0.30455#011validation-rmse:0.38669\u001b[0m\n",
      "\u001b[34m[120]#011train-rmse:0.30390#011validation-rmse:0.38668\u001b[0m\n",
      "\u001b[34m[121]#011train-rmse:0.30337#011validation-rmse:0.38651\u001b[0m\n",
      "\u001b[34m[122]#011train-rmse:0.30285#011validation-rmse:0.38648\u001b[0m\n",
      "\u001b[34m[123]#011train-rmse:0.30211#011validation-rmse:0.38628\u001b[0m\n",
      "\u001b[34m[124]#011train-rmse:0.30156#011validation-rmse:0.38638\u001b[0m\n",
      "\u001b[34m[125]#011train-rmse:0.30137#011validation-rmse:0.38638\u001b[0m\n",
      "\u001b[34m[126]#011train-rmse:0.30092#011validation-rmse:0.38627\u001b[0m\n",
      "\u001b[34m[127]#011train-rmse:0.30037#011validation-rmse:0.38613\u001b[0m\n",
      "\u001b[34m[128]#011train-rmse:0.29982#011validation-rmse:0.38608\u001b[0m\n",
      "\u001b[34m[129]#011train-rmse:0.29944#011validation-rmse:0.38601\u001b[0m\n",
      "\u001b[34m[130]#011train-rmse:0.29909#011validation-rmse:0.38600\u001b[0m\n",
      "\u001b[34m[131]#011train-rmse:0.29855#011validation-rmse:0.38595\u001b[0m\n",
      "\u001b[34m[132]#011train-rmse:0.29818#011validation-rmse:0.38595\u001b[0m\n",
      "\u001b[34m[133]#011train-rmse:0.29758#011validation-rmse:0.38578\u001b[0m\n",
      "\u001b[34m[134]#011train-rmse:0.29722#011validation-rmse:0.38560\u001b[0m\n",
      "\u001b[34m[135]#011train-rmse:0.29678#011validation-rmse:0.38555\u001b[0m\n",
      "\u001b[34m[136]#011train-rmse:0.29634#011validation-rmse:0.38557\u001b[0m\n",
      "\u001b[34m[137]#011train-rmse:0.29593#011validation-rmse:0.38558\u001b[0m\n",
      "\u001b[34m[138]#011train-rmse:0.29554#011validation-rmse:0.38558\u001b[0m\n",
      "\u001b[34m[139]#011train-rmse:0.29499#011validation-rmse:0.38538\u001b[0m\n",
      "\u001b[34m[140]#011train-rmse:0.29458#011validation-rmse:0.38530\u001b[0m\n",
      "\u001b[34m[141]#011train-rmse:0.29408#011validation-rmse:0.38523\u001b[0m\n",
      "\u001b[34m[142]#011train-rmse:0.29363#011validation-rmse:0.38517\u001b[0m\n",
      "\u001b[34m[143]#011train-rmse:0.29341#011validation-rmse:0.38505\u001b[0m\n",
      "\u001b[34m[144]#011train-rmse:0.29297#011validation-rmse:0.38506\u001b[0m\n",
      "\u001b[34m[145]#011train-rmse:0.29244#011validation-rmse:0.38488\u001b[0m\n",
      "\u001b[34m[146]#011train-rmse:0.29190#011validation-rmse:0.38479\u001b[0m\n",
      "\u001b[34m[147]#011train-rmse:0.29158#011validation-rmse:0.38484\u001b[0m\n",
      "\u001b[34m[148]#011train-rmse:0.29116#011validation-rmse:0.38482\u001b[0m\n",
      "\u001b[34m[149]#011train-rmse:0.29072#011validation-rmse:0.38480\u001b[0m\n",
      "\u001b[34m[150]#011train-rmse:0.29047#011validation-rmse:0.38478\u001b[0m\n",
      "\u001b[34m[151]#011train-rmse:0.29003#011validation-rmse:0.38475\u001b[0m\n",
      "\u001b[34m[152]#011train-rmse:0.28968#011validation-rmse:0.38464\u001b[0m\n",
      "\u001b[34m[153]#011train-rmse:0.28916#011validation-rmse:0.38461\u001b[0m\n",
      "\u001b[34m[154]#011train-rmse:0.28869#011validation-rmse:0.38437\u001b[0m\n",
      "\u001b[34m[155]#011train-rmse:0.28828#011validation-rmse:0.38420\u001b[0m\n",
      "\u001b[34m[156]#011train-rmse:0.28790#011validation-rmse:0.38412\u001b[0m\n",
      "\u001b[34m[157]#011train-rmse:0.28747#011validation-rmse:0.38425\u001b[0m\n",
      "\u001b[34m[158]#011train-rmse:0.28707#011validation-rmse:0.38410\u001b[0m\n",
      "\u001b[34m[159]#011train-rmse:0.28658#011validation-rmse:0.38386\u001b[0m\n",
      "\u001b[34m[160]#011train-rmse:0.28613#011validation-rmse:0.38386\u001b[0m\n",
      "\u001b[34m[161]#011train-rmse:0.28581#011validation-rmse:0.38376\u001b[0m\n",
      "\u001b[34m[162]#011train-rmse:0.28569#011validation-rmse:0.38382\u001b[0m\n",
      "\u001b[34m[163]#011train-rmse:0.28522#011validation-rmse:0.38368\u001b[0m\n",
      "\u001b[34m[164]#011train-rmse:0.28482#011validation-rmse:0.38365\u001b[0m\n",
      "\u001b[34m[165]#011train-rmse:0.28460#011validation-rmse:0.38355\u001b[0m\n",
      "\u001b[34m[166]#011train-rmse:0.28416#011validation-rmse:0.38335\u001b[0m\n",
      "\u001b[34m[167]#011train-rmse:0.28369#011validation-rmse:0.38313\u001b[0m\n",
      "\u001b[34m[168]#011train-rmse:0.28301#011validation-rmse:0.38270\u001b[0m\n",
      "\u001b[34m[169]#011train-rmse:0.28270#011validation-rmse:0.38269\u001b[0m\n",
      "\u001b[34m[170]#011train-rmse:0.28226#011validation-rmse:0.38269\u001b[0m\n",
      "\u001b[34m[171]#011train-rmse:0.28194#011validation-rmse:0.38260\u001b[0m\n",
      "\u001b[34m[172]#011train-rmse:0.28155#011validation-rmse:0.38265\u001b[0m\n",
      "\u001b[34m[173]#011train-rmse:0.28143#011validation-rmse:0.38266\u001b[0m\n",
      "\u001b[34m[174]#011train-rmse:0.28111#011validation-rmse:0.38261\u001b[0m\n",
      "\u001b[34m[175]#011train-rmse:0.28089#011validation-rmse:0.38250\u001b[0m\n",
      "\u001b[34m[176]#011train-rmse:0.28048#011validation-rmse:0.38261\u001b[0m\n",
      "\u001b[34m[177]#011train-rmse:0.28014#011validation-rmse:0.38256\u001b[0m\n",
      "\u001b[34m[178]#011train-rmse:0.27968#011validation-rmse:0.38256\u001b[0m\n",
      "\u001b[34m[179]#011train-rmse:0.27941#011validation-rmse:0.38247\u001b[0m\n",
      "\u001b[34m[180]#011train-rmse:0.27904#011validation-rmse:0.38250\u001b[0m\n",
      "\u001b[34m[181]#011train-rmse:0.27870#011validation-rmse:0.38235\u001b[0m\n",
      "\u001b[34m[182]#011train-rmse:0.27830#011validation-rmse:0.38221\u001b[0m\n",
      "\u001b[34m[183]#011train-rmse:0.27795#011validation-rmse:0.38226\u001b[0m\n",
      "\u001b[34m[184]#011train-rmse:0.27754#011validation-rmse:0.38232\u001b[0m\n",
      "\u001b[34m[185]#011train-rmse:0.27723#011validation-rmse:0.38223\u001b[0m\n",
      "\u001b[34m[186]#011train-rmse:0.27693#011validation-rmse:0.38212\u001b[0m\n",
      "\u001b[34m[187]#011train-rmse:0.27657#011validation-rmse:0.38196\u001b[0m\n",
      "\u001b[34m[188]#011train-rmse:0.27623#011validation-rmse:0.38196\u001b[0m\n",
      "\u001b[34m[189]#011train-rmse:0.27577#011validation-rmse:0.38168\u001b[0m\n",
      "\u001b[34m[190]#011train-rmse:0.27543#011validation-rmse:0.38165\u001b[0m\n",
      "\u001b[34m[191]#011train-rmse:0.27503#011validation-rmse:0.38163\u001b[0m\n",
      "\u001b[34m[192]#011train-rmse:0.27477#011validation-rmse:0.38149\u001b[0m\n",
      "\u001b[34m[193]#011train-rmse:0.27437#011validation-rmse:0.38133\u001b[0m\n",
      "\u001b[34m[194]#011train-rmse:0.27395#011validation-rmse:0.38134\u001b[0m\n",
      "\u001b[34m[195]#011train-rmse:0.27365#011validation-rmse:0.38119\u001b[0m\n",
      "\u001b[34m[196]#011train-rmse:0.27346#011validation-rmse:0.38119\u001b[0m\n",
      "\u001b[34m[197]#011train-rmse:0.27307#011validation-rmse:0.38106\u001b[0m\n",
      "\u001b[34m[198]#011train-rmse:0.27278#011validation-rmse:0.38095\u001b[0m\n",
      "\u001b[34m[199]#011train-rmse:0.27243#011validation-rmse:0.38085\u001b[0m\n",
      "\u001b[34m[200]#011train-rmse:0.27227#011validation-rmse:0.38080\u001b[0m\n",
      "\u001b[34m[201]#011train-rmse:0.27211#011validation-rmse:0.38075\u001b[0m\n",
      "\u001b[34m[202]#011train-rmse:0.27194#011validation-rmse:0.38072\u001b[0m\n",
      "\u001b[34m[203]#011train-rmse:0.27169#011validation-rmse:0.38070\u001b[0m\n",
      "\u001b[34m[204]#011train-rmse:0.27147#011validation-rmse:0.38065\u001b[0m\n",
      "\u001b[34m[205]#011train-rmse:0.27124#011validation-rmse:0.38068\u001b[0m\n",
      "\u001b[34m[206]#011train-rmse:0.27105#011validation-rmse:0.38064\u001b[0m\n",
      "\u001b[34m[207]#011train-rmse:0.27079#011validation-rmse:0.38067\u001b[0m\n",
      "\u001b[34m[208]#011train-rmse:0.27054#011validation-rmse:0.38055\u001b[0m\n",
      "\u001b[34m[209]#011train-rmse:0.27039#011validation-rmse:0.38052\u001b[0m\n",
      "\u001b[34m[210]#011train-rmse:0.26991#011validation-rmse:0.38050\u001b[0m\n",
      "\n",
      "2024-09-16 00:21:04 Uploading - Uploading generated training model\n",
      "2024-09-16 00:21:04 Completed - Training job completed\n",
      "Training seconds: 105\n",
      "Billable seconds: 105\n"
     ]
    }
   ],
   "source": [
    "xgboostTuning.fit(data_channels)"
   ]
  },
  {
   "cell_type": "code",
   "execution_count": 44,
   "id": "4c1600c7-e5bc-417b-8375-e7ab8acf0f48",
   "metadata": {},
   "outputs": [
    {
     "name": "stderr",
     "output_type": "stream",
     "text": [
      "INFO:sagemaker:Creating model with name: sagemaker-xgboost-2024-09-16-00-29-01-065\n",
      "INFO:sagemaker:Creating endpoint-config with name sagemaker-xgboost-2024-09-16-00-29-01-065\n",
      "INFO:sagemaker:Creating endpoint with name sagemaker-xgboost-2024-09-16-00-29-01-065\n"
     ]
    },
    {
     "name": "stdout",
     "output_type": "stream",
     "text": [
      "-------!"
     ]
    }
   ],
   "source": [
    "xgboost_regressor_tuning = xgboost.deploy(initial_instance_count=1, instance_type='ml.m4.xlarge')"
   ]
  },
  {
   "cell_type": "code",
   "execution_count": 45,
   "id": "d0a8f8bf-8a3d-4170-93a0-82232f3a7270",
   "metadata": {},
   "outputs": [],
   "source": [
    "xgboost_regressor_tuning.serializer = CSVSerializer()"
   ]
  },
  {
   "cell_type": "code",
   "execution_count": 46,
   "id": "0ffa3fde-a646-4df6-a60b-f4965382c8f9",
   "metadata": {},
   "outputs": [
    {
     "data": {
      "text/plain": [
       "array([2.5652454, 1.3122922, 1.8439097, ..., 1.5989388, 2.9506352,\n",
       "       2.0021849], dtype=float32)"
      ]
     },
     "execution_count": 46,
     "metadata": {},
     "output_type": "execute_result"
    }
   ],
   "source": [
    "previsoes = np.array(xgboost_regressor_tuning.predict(X_test).decode('utf-8').split('\\n'))\n",
    "previsoes = [x for x in previsoes if x]\n",
    "previsoes = np.array(previsoes).astype(np.float32)\n",
    "previsoes"
   ]
  },
  {
   "cell_type": "code",
   "execution_count": null,
   "id": "9a246fe5-07a8-4a62-8a0d-37c5c0528f84",
   "metadata": {},
   "outputs": [],
   "source": []
  }
 ],
 "metadata": {
  "kernelspec": {
   "display_name": "Python 3 (ipykernel)",
   "language": "python",
   "name": "python3"
  },
  "language_info": {
   "codemirror_mode": {
    "name": "ipython",
    "version": 3
   },
   "file_extension": ".py",
   "mimetype": "text/x-python",
   "name": "python",
   "nbconvert_exporter": "python",
   "pygments_lexer": "ipython3",
   "version": "3.10.14"
  }
 },
 "nbformat": 4,
 "nbformat_minor": 5
}
